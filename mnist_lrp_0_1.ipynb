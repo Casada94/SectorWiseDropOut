{
 "cells": [
  {
   "cell_type": "code",
   "execution_count": 2,
   "metadata": {
    "colab": {
     "base_uri": "https://localhost:8080/"
    },
    "id": "hspvkHBPFLOe",
    "outputId": "9a58658c-7990-4d0b-e811-a33010d93be1",
    "ExecuteTime": {
     "end_time": "2023-12-20T22:34:42.520422732Z",
     "start_time": "2023-12-20T22:34:42.518013264Z"
    }
   },
   "outputs": [
    {
     "name": "stdout",
     "output_type": "stream",
     "text": [
      "CUDA is not available.  Training on CPU ...\n"
     ]
    }
   ],
   "source": [
    "import random\n",
    "import time\n",
    "import numpy as np\n",
    "import matplotlib.pyplot as plt\n",
    "\n",
    "import torch\n",
    "import torch.nn as nn\n",
    "import torch.optim as optim\n",
    "import torch.nn.functional as F\n",
    "import torchvision.transforms as transforms\n",
    "from torchvision.datasets import MNIST\n",
    "from torch.utils.data import DataLoader, random_split\n",
    "\n",
    "# check if CUDA is available\n",
    "train_on_gpu = torch.cuda.is_available()\n",
    "\n",
    "if not train_on_gpu:\n",
    "    print('CUDA is not available.  Training on CPU ...')\n",
    "else:\n",
    "    print('CUDA is available!  Training on GPU ...')"
   ]
  },
  {
   "cell_type": "code",
   "execution_count": 41,
   "metadata": {
    "colab": {
     "base_uri": "https://localhost:8080/"
    },
    "id": "lx7e4ADDmq9a",
    "outputId": "9aa1f917-2c98-4104-df76-ab5bb105bcb4",
    "ExecuteTime": {
     "end_time": "2023-12-21T01:09:06.748402567Z",
     "start_time": "2023-12-21T01:09:06.680235003Z"
    }
   },
   "outputs": [],
   "source": [
    "# Step 1: Load and Prepare the MNIST Dataset\n",
    "transform = transforms.Compose([transforms.ToTensor(),\n",
    "                                transforms.Normalize((0.5,), (0.5,))])\n",
    "\n",
    "# Load MNIST dataset\n",
    "full_train_data = MNIST(root='data', train=True, download=True, transform=transform)\n",
    "test_data = MNIST(root='data', train=False, download=True, transform=transform)\n",
    "\n",
    "# Split full training data into training and validation\n",
    "train_size = int(0.2 * len(full_train_data))\n",
    "valid_size = len(full_train_data) - train_size\n",
    "train_data, valid_data = random_split(full_train_data, [train_size, valid_size])\n",
    "\n",
    "# Create data loaders\n",
    "train_loader = DataLoader(train_data, batch_size=32, shuffle=True)\n",
    "valid_loader = DataLoader(valid_data, batch_size=32, shuffle=True)\n",
    "test_loader = DataLoader(test_data, batch_size=32, shuffle=False)\n"
   ]
  },
  {
   "cell_type": "code",
   "execution_count": 61,
   "metadata": {
    "id": "P_2xTMpPmq9b",
    "ExecuteTime": {
     "end_time": "2023-12-21T19:21:44.213146134Z",
     "start_time": "2023-12-21T19:21:44.169540705Z"
    }
   },
   "outputs": [],
   "source": [
    "# Step 2: Define the Deep Neural Network Model\n",
    "class DeepNN(nn.Module):\n",
    "    def __init__(self,**kwargs):\n",
    "        super(DeepNN, self).__init__()\n",
    "        self.fc1 = nn.Linear(28*28, 1024)\n",
    "        self.fc2 = nn.Linear(1024, 1024)\n",
    "        self.fc3 = nn.Linear(1024, 256)\n",
    "        self.fc4 = nn.Linear(256, 128)\n",
    "        self.fc5 = nn.Linear(128, 10)\n",
    "        self.dropout = nn.Dropout(kwargs['dropout_rate'])\n",
    "\n",
    "    def forward(self, x):\n",
    "        x = x.view(-1, 28*28)  # Flatten the images\n",
    "        x = self.dropout(F.relu(self.fc1(x)))\n",
    "        x = self.dropout(F.relu(self.fc2(x)))\n",
    "        x = self.dropout(F.relu(self.fc3(x)))\n",
    "        x = self.dropout(F.relu(self.fc4(x)))\n",
    "        x = self.fc5(x)\n",
    "        return x\n",
    "\n"
   ]
  },
  {
   "cell_type": "code",
   "execution_count": 94,
   "outputs": [],
   "source": [
    "#Sector-wise dropout layer\n",
    "class SWDropOut(torch.nn.Module):\n",
    "    def __init__(self,**kwargs):\n",
    "        super().__init__()\n",
    "        self.group_size = int(kwargs['group_size'])\n",
    "        self.drop_per_group = int(kwargs['drop_per_group'])\n",
    "        self.scalar = 1/((self.group_size-self.drop_per_group)/self.group_size)\n",
    "     \n",
    "    # def forward(self, x):\n",
    "    #     if self.training:\n",
    "    #         scalar_mask = torch.full(x.size(),self.scalar)\n",
    "    #         batch,feature = x.size()\n",
    "    #         for item in range(batch):\n",
    "    #             for i in range(0,feature,self.group_size):\n",
    "    #                 masked_count=0\n",
    "    #                 while masked_count < self.drop_per_group:\n",
    "    #                     index = random.randint(0, self.group_size-1) \n",
    "    #                     if scalar_mask[item][i+index] !=0:\n",
    "    #                         scalar_mask[item][i+index]=0\n",
    "    #                         masked_count+=1\n",
    "    #         x = torch.multiply(x,scalar_mask)\n",
    "    #         # print(x)\n",
    "    #         return x\n",
    "    #     else:\n",
    "    #         return x\n",
    "    def forward(self, x):\n",
    "        if self.training:\n",
    "            batch,feature = x.size()\n",
    "            scalar_mask = torch.full((batch*feature,),self.scalar)\n",
    "            for i in range(0,batch*feature,self.group_size):\n",
    "                masked_count=0\n",
    "                while masked_count < self.drop_per_group:\n",
    "                    index = random.randint(0, self.group_size-1) \n",
    "                    if scalar_mask[i+index] !=0:\n",
    "                        scalar_mask[i+index]=0\n",
    "                        masked_count+=1\n",
    "            scalar_mask = torch.reshape(scalar_mask,(batch,feature))\n",
    "            x = torch.multiply(x,scalar_mask)\n",
    "            # print(x)\n",
    "            del scalar_mask\n",
    "            return x\n",
    "        else:\n",
    "            return x\n"
   ],
   "metadata": {
    "collapsed": false,
    "ExecuteTime": {
     "end_time": "2023-12-21T20:14:10.217973003Z",
     "start_time": "2023-12-21T20:14:10.201615749Z"
    }
   }
  },
  {
   "cell_type": "code",
   "execution_count": 83,
   "metadata": {
    "id": "jCS5jyIZmq9e",
    "ExecuteTime": {
     "end_time": "2023-12-21T20:12:41.372919396Z",
     "start_time": "2023-12-21T20:12:41.362431459Z"
    }
   },
   "outputs": [],
   "source": [
    "# Step 2: Define the Deep Neural Network Model\n",
    "class DeepNN_SW(nn.Module):\n",
    "    def __init__(self,**kwargs):\n",
    "        super(DeepNN_SW, self).__init__()\n",
    "        self.fc1 = nn.Linear(28*28, 1024)\n",
    "        self.fc2 = nn.Linear(1024, 1024)\n",
    "        self.fc3 = nn.Linear(1024, 256)\n",
    "        self.fc4 = nn.Linear(256, 128)\n",
    "        self.fc5 = nn.Linear(128, 10)\n",
    "        self.dropout = SWDropOut(group_size=kwargs['group_size'], drop_per_group=kwargs['drop_per_group'])\n",
    "\n",
    "    def forward(self, x):\n",
    "        x = x.view(-1, 28*28)  # Flatten the images\n",
    "        x = self.dropout(F.relu(self.fc1(x)))\n",
    "        x = self.dropout(F.relu(self.fc2(x)))\n",
    "        x = self.dropout(F.relu(self.fc3(x)))\n",
    "        x = self.dropout(F.relu(self.fc4(x)))\n",
    "        x = self.fc5(x)\n",
    "        return x\n"
   ]
  },
  {
   "cell_type": "code",
   "execution_count": 84,
   "outputs": [],
   "source": [
    "def train(model,optim,criterion,train_loader):\n",
    "    train_loss=0\n",
    "    model.train()\n",
    "    for data, target in train_loader:\n",
    "        if train_on_gpu:\n",
    "            data,target = data.cuda(), target.cuda()\n",
    "        \n",
    "        optim.zero_grad()\n",
    "        output= model(data)\n",
    "        loss = criterion(output,target)\n",
    "        loss.backward()\n",
    "        optim.step()\n",
    "        train_loss+=loss.item()\n",
    "        # print(train_loss)\n",
    "        del data\n",
    "        del target\n",
    "    \n",
    "    return train_loss/len(train_loader)\n",
    "\n",
    "@torch.no_grad()\n",
    "def validate(model,criterion,valid_loader):\n",
    "    model.eval()\n",
    "    valid_loss=0\n",
    "    \n",
    "    for data, target in valid_loader:\n",
    "        if train_on_gpu:\n",
    "            data, target = data.cuda(), target.cuda()\n",
    "        output = model(data)\n",
    "        loss = criterion(output, target)\n",
    "        valid_loss += loss.item()\n",
    "        \n",
    "    valid_loss = valid_loss/len(valid_loader)\n",
    "    \n",
    "    return valid_loss\n",
    "\n",
    "@torch.no_grad()\n",
    "def predict(model,criterion,test_loader):\n",
    "    model.eval()\n",
    "    class_correct = list(0. for i in range(10))\n",
    "    class_total = list(0. for i in range(10))\n",
    "    test_loss=0\n",
    "    for data, target in test_loader:\n",
    "        if train_on_gpu:\n",
    "            data,target = data.cuda(), target.cuda()\n",
    "        \n",
    "        prediction = model(data)\n",
    "        test_loss += criterion(prediction, target).item()\n",
    "    \n",
    "        _, pred = torch.max(prediction, 1)\n",
    "        correct_tensor = pred.eq(target.data.view_as(pred))\n",
    "        \n",
    "        correct = np.squeeze(correct_tensor.numpy()) if not train_on_gpu else np.squeeze(correct_tensor.cpu().numpy())\n",
    "        \n",
    "        for i in range(len(data)):\n",
    "            label = target.data[i]\n",
    "            class_correct[label] += correct[i].item()\n",
    "            class_total[label] += 1\n",
    "    \n",
    "    test_loss = test_loss/len(test_loader.dataset)\n",
    "    print(len(test_loader.dataset),len(test_loader))\n",
    "    print('Test Loss: {:.6f}\\n'.format(test_loss))\n",
    "    \n",
    "    for i in range(10):\n",
    "        if class_total[i] > 0:\n",
    "            print('Test Accuracy of %5s: %2d%% (%2d/%2d)' % (\n",
    "                i, 100 * class_correct[i] / class_total[i],\n",
    "                np.sum(class_correct[i]), np.sum(class_total[i])))\n",
    "        else:\n",
    "            print('Test Accuracy of %5s: N/A (no training examples)' % (i))\n",
    "    \n",
    "    print('\\nTest Accuracy (Overall): %2d%% (%2d/%2d)' % (\n",
    "        100. * np.sum(class_correct) / np.sum(class_total),\n",
    "        np.sum(class_correct), np.sum(class_total)))\n",
    "    \n",
    "    return class_correct,test_loss"
   ],
   "metadata": {
    "collapsed": false,
    "ExecuteTime": {
     "end_time": "2023-12-21T20:12:42.462625382Z",
     "start_time": "2023-12-21T20:12:42.457149783Z"
    }
   }
  },
  {
   "cell_type": "code",
   "execution_count": 85,
   "outputs": [],
   "source": [
    "def train_and_test_dropout(model,training,validation,testing,epochs, model_filename):\n",
    "    optimizer = optim.Adamax(model.parameters(), lr=.01)\n",
    "    loss_fn = nn.CrossEntropyLoss()\n",
    "    train_loss =[]\n",
    "    val_loss=[]\n",
    "    valid_loss_min = 100\n",
    "    start_time=0\n",
    "    for i in epochs:\n",
    "        # if i == 10:\n",
    "        #     model.update_group_details(4,2)\n",
    "        # elif i == 20:\n",
    "        #     model.update_group_details(4,3)\n",
    "        print(i)\n",
    "        start_time=time.time()\n",
    "        loss = train(model,optimizer,loss_fn,training)\n",
    "        valid_loss = validate(model,loss_fn,validation)\n",
    "        if valid_loss < valid_loss_min:\n",
    "            torch.save(model.state_dict(),model_filename)\n",
    "        \n",
    "        train_loss.append(loss)\n",
    "        val_loss.append(valid_loss)\n",
    "        print(\"duration: \",time.time()-start_time)\n",
    "\n",
    "    y_pred_totals,test_loss = predict(model,loss_fn,testing)\n",
    "    \n",
    "    return train_loss,val_loss,test_loss,y_pred_totals"
   ],
   "metadata": {
    "collapsed": false,
    "ExecuteTime": {
     "end_time": "2023-12-21T20:12:43.173874962Z",
     "start_time": "2023-12-21T20:12:43.164580073Z"
    }
   }
  },
  {
   "cell_type": "code",
   "execution_count": 86,
   "outputs": [],
   "source": [
    "def makeGraph(trn_loss, val_loss,y_hat,epochs,type):\n",
    "    fig, (ax11,ax12) = plt.subplots(2,1)\n",
    "    fig.set_figwidth(6)\n",
    "    fig.set_figheight(12)\n",
    "    \n",
    "    ax11.set_title(type + ' DropOut')\n",
    "    ax11.plot(epochs,trn_loss,'bo',label='Training Loss')\n",
    "    ax11.plot(epochs,val_loss,'r',label='Validation Loss')\n",
    "    ax11.set_ylim([0.0,1.5])\n",
    "    ax11.set(xlabel='Epochs',ylabel='Loss')\n",
    "    ax11.legend()\n",
    "    \n",
    "    ax12.bar(range(10),y_hat)\n",
    "    ax12.set(xlabel='Actual',ylabel='Predicted')\n",
    "    \n",
    "    \n",
    "    plt.show()"
   ],
   "metadata": {
    "collapsed": false,
    "ExecuteTime": {
     "end_time": "2023-12-21T20:12:43.730753812Z",
     "start_time": "2023-12-21T20:12:43.724262849Z"
    }
   }
  },
  {
   "cell_type": "code",
   "execution_count": 87,
   "outputs": [],
   "source": [
    "def overlayGraphs(do_loss, do_val_loss,sw_loss, sw_val_loss,epochs):\n",
    "    fig = plt.figure(constrained_layout=True)\n",
    "    ax = fig.subplot_mosaic([['topL','topR'],['bottomL','bottomR']])\n",
    "    # fig, ((ax11,ax21),(ax12,ax22)) = plt.subplots(2,2)\n",
    "    fig.set_figwidth(12)\n",
    "    fig.set_figheight(12)\n",
    "    \n",
    "    ax['bottomL'].set_title('DO & SW Validation Loss')\n",
    "    ax['bottomL'].plot(epochs,do_val_loss,'b',label='Regular')\n",
    "    ax['bottomL'].set_ylim([0.0,1.5])\n",
    "    ax['bottomL'].set(xlabel='Epochs',ylabel='Loss')\n",
    "    ax['bottomL'].plot(epochs,sw_val_loss,'g',label='Sector-Wise')\n",
    "    ax['bottomL'].legend()\n",
    "    \n",
    "    ax['bottomR'].set_title('DO & SW Training Loss')\n",
    "    ax['bottomR'].plot(epochs,do_loss,'bo',label='Regular')\n",
    "    ax['bottomR'].set_ylim([0.0,1.5])\n",
    "    ax['bottomR'].set(xlabel='Epochs',ylabel='Loss')\n",
    "    ax['bottomR'].plot(epochs,sw_loss,'go',label='Sector-Wise')\n",
    "    ax['bottomR'].legend()\n",
    "    \n",
    "    ax['topL'].set_title('Regular DropOut')\n",
    "    ax['topL'].plot(epochs,do_loss,'bo',label='Training Loss')\n",
    "    ax['topL'].plot(epochs,do_val_loss,'r',label='Validation Loss')\n",
    "    ax['topL'].set_ylim([0.0,1.5])\n",
    "    ax['topL'].set(xlabel='Epochs',ylabel='Loss')\n",
    "    ax['topL'].legend()\n",
    "    \n",
    "    ax['topR'].set_title('Sector-Wise DropOut')\n",
    "    ax['topR'].plot(epochs,sw_loss,'bo',label='Training Loss')\n",
    "    ax['topR'].plot(epochs,sw_val_loss,'r',label='Validation Loss')\n",
    "    ax['topR'].set_ylim([0.0,1.5])\n",
    "    ax['topR'].set(xlabel='Epochs',ylabel='Loss')\n",
    "    ax['topR'].legend()\n",
    "   \n",
    "    plt.show()"
   ],
   "metadata": {
    "collapsed": false,
    "ExecuteTime": {
     "end_time": "2023-12-21T20:12:44.249388580Z",
     "start_time": "2023-12-21T20:12:44.240697459Z"
    }
   }
  },
  {
   "cell_type": "code",
   "execution_count": 88,
   "outputs": [],
   "source": [
    "epochs=range(100)\n",
    "torch.set_printoptions(threshold=10_000)\n",
    "\n",
    "dropout_rate=0.25\n",
    "group_size=4\n",
    "drop_per_group=1"
   ],
   "metadata": {
    "collapsed": false,
    "ExecuteTime": {
     "end_time": "2023-12-21T20:12:44.890397429Z",
     "start_time": "2023-12-21T20:12:44.887562789Z"
    }
   }
  },
  {
   "cell_type": "code",
   "execution_count": null,
   "outputs": [
    {
     "name": "stdout",
     "output_type": "stream",
     "text": [
      "0\n",
      "duration:  122.64493298530579\n",
      "1\n",
      "duration:  122.83762192726135\n",
      "2\n"
     ]
    }
   ],
   "source": [
    "SW_model = DeepNN_SW(group_size=group_size,drop_per_group=drop_per_group)\n",
    "\n",
    "sw_t_loss,sw_v_loss,sw_tst_loss,sw_correct_class_totals = train_and_test_dropout(SW_model,train_loader,valid_loader,test_loader,epochs,'sw-model-cifar.pt')"
   ],
   "metadata": {
    "collapsed": false,
    "is_executing": true,
    "ExecuteTime": {
     "start_time": "2023-12-21T20:14:13.337720783Z"
    }
   }
  },
  {
   "cell_type": "code",
   "execution_count": null,
   "outputs": [],
   "source": [
    "makeGraph(sw_t_loss,sw_v_loss,sw_correct_class_totals, epochs, 'Sector-Wise')"
   ],
   "metadata": {
    "collapsed": false,
    "is_executing": true
   }
  },
  {
   "cell_type": "code",
   "execution_count": null,
   "outputs": [],
   "source": [
    "#STANDARD DROPOUT MODEL\n",
    "do_model = DeepNN(dropout_rate=dropout_rate)\n",
    "\n",
    "do_t_loss,do_v_loss,do_tst_loss,do_correct_class_totals = train_and_test_dropout(do_model,train_loader,valid_loader,test_loader,epochs,'do-model-cifar.pt')"
   ],
   "metadata": {
    "collapsed": false,
    "is_executing": true
   }
  },
  {
   "cell_type": "code",
   "execution_count": null,
   "outputs": [],
   "source": [
    "makeGraph(do_t_loss,do_v_loss,do_correct_class_totals, epochs, 'Regular')"
   ],
   "metadata": {
    "collapsed": false,
    "is_executing": true
   }
  },
  {
   "cell_type": "code",
   "execution_count": null,
   "outputs": [],
   "source": [
    "overlayGraphs(do_t_loss,do_v_loss,sw_t_loss,sw_v_loss, epochs)"
   ],
   "metadata": {
    "collapsed": false,
    "is_executing": true
   }
  },
  {
   "cell_type": "code",
   "execution_count": null,
   "outputs": [],
   "source": [],
   "metadata": {
    "collapsed": false
   }
  }
 ],
 "metadata": {
  "accelerator": "GPU",
  "colab": {
   "provenance": []
  },
  "kernelspec": {
   "display_name": "Python 3 (ipykernel)",
   "language": "python",
   "name": "python3"
  },
  "language_info": {
   "codemirror_mode": {
    "name": "ipython",
    "version": 3
   },
   "file_extension": ".py",
   "mimetype": "text/x-python",
   "name": "python",
   "nbconvert_exporter": "python",
   "pygments_lexer": "ipython3",
   "version": "3.11.5"
  }
 },
 "nbformat": 4,
 "nbformat_minor": 0
}
