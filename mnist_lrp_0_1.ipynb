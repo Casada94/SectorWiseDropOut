{
 "cells": [
  {
   "cell_type": "code",
   "execution_count": null,
   "metadata": {
    "colab": {
     "base_uri": "https://localhost:8080/"
    },
    "id": "hspvkHBPFLOe",
    "outputId": "9a58658c-7990-4d0b-e811-a33010d93be1"
   },
   "outputs": [],
   "source": [
    "import random\n",
    "import time\n",
    "import numpy as np\n",
    "import matplotlib.pyplot as plt\n",
    "\n",
    "import torch\n",
    "import torch.nn as nn\n",
    "import torch.optim as optim\n",
    "import torch.nn.functional as F\n",
    "import torchvision.transforms as transforms\n",
    "from torchvision.datasets import MNIST\n",
    "from torch.utils.data import DataLoader, random_split\n",
    "\n",
    "# check if CUDA is available\n",
    "train_on_gpu = torch.cuda.is_available()\n",
    "\n",
    "if not train_on_gpu:\n",
    "    print('CUDA is not available.  Training on CPU ...')\n",
    "else:\n",
    "    print('CUDA is available!  Training on GPU ...')"
   ]
  },
  {
   "cell_type": "code",
   "execution_count": null,
   "metadata": {
    "colab": {
     "base_uri": "https://localhost:8080/"
    },
    "id": "lx7e4ADDmq9a",
    "outputId": "9aa1f917-2c98-4104-df76-ab5bb105bcb4"
   },
   "outputs": [],
   "source": [
    "# Step 1: Load and Prepare the MNIST Dataset\n",
    "transform = transforms.Compose([transforms.ToTensor(),\n",
    "                                transforms.Normalize((0.5,), (0.5,))])\n",
    "\n",
    "# Load MNIST dataset\n",
    "full_train_data = MNIST(root='data', train=True, download=True, transform=transform)\n",
    "test_data = MNIST(root='data', train=False, download=True, transform=transform)\n",
    "\n",
    "# Split full training data into training and validation\n",
    "train_size = int(0.2 * len(full_train_data))\n",
    "valid_size = len(full_train_data) - train_size\n",
    "train_data, valid_data = random_split(full_train_data, [train_size, valid_size])\n",
    "\n",
    "# Create data loaders\n",
    "train_loader = DataLoader(train_data, batch_size=32, shuffle=True)\n",
    "valid_loader = DataLoader(valid_data, batch_size=32, shuffle=True)\n",
    "test_loader = DataLoader(test_data, batch_size=32, shuffle=False)\n"
   ]
  },
  {
   "cell_type": "code",
   "execution_count": null,
   "metadata": {
    "id": "P_2xTMpPmq9b"
   },
   "outputs": [],
   "source": [
    "# Step 2: Define the Deep Neural Network Model\n",
    "class DeepNN(nn.Module):\n",
    "    def __init__(self,**kwargs):\n",
    "        super(DeepNN, self).__init__()\n",
    "        self.fc1 = nn.Linear(28*28, l1)\n",
    "        self.fc2 = nn.Linear(l1, l2)\n",
    "        self.fc3 = nn.Linear(l2, l3)\n",
    "        self.fc4 = nn.Linear(l3, l4)\n",
    "        self.fc5 = nn.Linear(l4, 10)\n",
    "        self.dropout = nn.Dropout(kwargs['dropout_rate'])\n",
    "\n",
    "    def forward(self, x):\n",
    "        x = x.view(-1, 28*28)  # Flatten the images\n",
    "        x = self.dropout(F.relu(self.fc1(x)))\n",
    "        x = self.dropout(F.relu(self.fc2(x)))\n",
    "        x = self.dropout(F.relu(self.fc3(x)))\n",
    "        x = self.dropout(F.relu(self.fc4(x)))\n",
    "        x = self.fc5(x)\n",
    "        return x\n",
    "\n"
   ]
  },
  {
   "cell_type": "code",
   "execution_count": null,
   "outputs": [],
   "source": [
    "#Sector-wise dropout layer\n",
    "class SWDropOut(torch.nn.Module):\n",
    "    def __init__(self,**kwargs):\n",
    "        super().__init__()\n",
    "        self.group_size = int(kwargs['group_size'])\n",
    "        self.drop_per_group = int(kwargs['drop_per_group'])\n",
    "        self.scalar = 1/((self.group_size-self.drop_per_group)/self.group_size)\n",
    "     \n",
    "    def forward(self, x):\n",
    "        if self.training:\n",
    "            batch,feature = x.size()\n",
    "            scalar_mask = torch.full((batch*feature,),self.scalar)\n",
    "            if drop_per_group/group_size <=0.5 :\n",
    "                for i in range(0,batch*feature,self.group_size):\n",
    "                    masked_count=0\n",
    "                    while masked_count < self.drop_per_group:\n",
    "                        index = random.randint(0, self.group_size-1) \n",
    "                        if scalar_mask[i+index] !=0:\n",
    "                            scalar_mask[i+index]=0\n",
    "                            masked_count+=1\n",
    "                scalar_mask = torch.reshape(scalar_mask,(batch,feature))\n",
    "            else:\n",
    "                scalar_mask = torch.zeros((batch*feature,))\n",
    "                for i in range(0,batch*feature,self.group_size):\n",
    "                    masked_count=0\n",
    "                    while masked_count < (self.group_size - self.drop_per_group):\n",
    "                        index = random.randint(0, self.group_size-1) \n",
    "                        if scalar_mask[i+index] !=self.scalar:\n",
    "                            scalar_mask[i+index]=self.scalar\n",
    "                            masked_count+=1\n",
    "                scalar_mask = torch.reshape(scalar_mask,(batch,feature))\n",
    "            x = torch.multiply(x,scalar_mask)\n",
    "            # print(x)\n",
    "            # del scalar_mask\n",
    "            return x\n",
    "        else:\n",
    "            return x\n"
   ],
   "metadata": {
    "collapsed": false
   }
  },
  {
   "cell_type": "code",
   "execution_count": null,
   "metadata": {
    "id": "jCS5jyIZmq9e"
   },
   "outputs": [],
   "source": [
    "# Step 2: Define the Deep Neural Network Model\n",
    "class DeepNN_SW(nn.Module):\n",
    "    def __init__(self,**kwargs):\n",
    "        super(DeepNN_SW, self).__init__()\n",
    "        self.fc1 = nn.Linear(28*28, l1)\n",
    "        self.fc2 = nn.Linear(l1, l2)\n",
    "        self.fc3 = nn.Linear(l2, l3)\n",
    "        self.fc4 = nn.Linear(l3, l4)\n",
    "        self.fc5 = nn.Linear(l4, 10)\n",
    "        self.dropout = SWDropOut(group_size=kwargs['group_size'], drop_per_group=kwargs['drop_per_group'])\n",
    "\n",
    "    def forward(self, x):\n",
    "        x = x.view(-1, 28*28)  # Flatten the images\n",
    "        x = self.dropout(F.relu(self.fc1(x)))\n",
    "        x = self.dropout(F.relu(self.fc2(x)))\n",
    "        x = self.dropout(F.relu(self.fc3(x)))\n",
    "        x = self.dropout(F.relu(self.fc4(x)))\n",
    "        x = self.fc5(x)\n",
    "        return x\n"
   ]
  },
  {
   "cell_type": "code",
   "execution_count": null,
   "outputs": [],
   "source": [
    "def train(model,optim,criterion,train_loader):\n",
    "    train_loss=0\n",
    "    model.train()\n",
    "    for data, target in train_loader:\n",
    "        if train_on_gpu:\n",
    "            data,target = data.cuda(), target.cuda()\n",
    "        \n",
    "        optim.zero_grad()\n",
    "        output= model(data)\n",
    "        loss = criterion(output,target)\n",
    "        loss.backward()\n",
    "        optim.step()\n",
    "        train_loss+=loss.item()\n",
    "        # print(train_loss)\n",
    "        del data\n",
    "        del target\n",
    "    \n",
    "    return train_loss/len(train_loader)\n",
    "\n",
    "@torch.no_grad()\n",
    "def validate(model,criterion,valid_loader):\n",
    "    model.eval()\n",
    "    valid_loss=0\n",
    "    \n",
    "    for data, target in valid_loader:\n",
    "        if train_on_gpu:\n",
    "            data, target = data.cuda(), target.cuda()\n",
    "        output = model(data)\n",
    "        loss = criterion(output, target)\n",
    "        valid_loss += loss.item()\n",
    "        \n",
    "    valid_loss = valid_loss/len(valid_loader)\n",
    "    \n",
    "    return valid_loss\n",
    "\n",
    "@torch.no_grad()\n",
    "def predict(model,criterion,test_loader):\n",
    "    model.eval()\n",
    "    class_correct = list(0. for i in range(10))\n",
    "    class_total = list(0. for i in range(10))\n",
    "    test_loss=0\n",
    "    for data, target in test_loader:\n",
    "        if train_on_gpu:\n",
    "            data,target = data.cuda(), target.cuda()\n",
    "        \n",
    "        prediction = model(data)\n",
    "        test_loss += criterion(prediction, target).item()\n",
    "    \n",
    "        _, pred = torch.max(prediction, 1)\n",
    "        correct_tensor = pred.eq(target.data.view_as(pred))\n",
    "        \n",
    "        correct = np.squeeze(correct_tensor.numpy()) if not train_on_gpu else np.squeeze(correct_tensor.cpu().numpy())\n",
    "        \n",
    "        for i in range(len(data)):\n",
    "            label = target.data[i]\n",
    "            class_correct[label] += correct[i].item()\n",
    "            class_total[label] += 1\n",
    "    \n",
    "    test_loss = test_loss/len(test_loader.dataset)\n",
    "    print(len(test_loader.dataset),len(test_loader))\n",
    "    print('Test Loss: {:.6f}\\n'.format(test_loss))\n",
    "    \n",
    "    for i in range(10):\n",
    "        if class_total[i] > 0:\n",
    "            print('Test Accuracy of %5s: %2d%% (%2d/%2d)' % (\n",
    "                i, 100 * class_correct[i] / class_total[i],\n",
    "                np.sum(class_correct[i]), np.sum(class_total[i])))\n",
    "        else:\n",
    "            print('Test Accuracy of %5s: N/A (no training examples)' % (i))\n",
    "    \n",
    "    print('\\nTest Accuracy (Overall): %2d%% (%2d/%2d)' % (\n",
    "        100. * np.sum(class_correct) / np.sum(class_total),\n",
    "        np.sum(class_correct), np.sum(class_total)))\n",
    "    \n",
    "    return class_correct,test_loss"
   ],
   "metadata": {
    "collapsed": false
   }
  },
  {
   "cell_type": "code",
   "execution_count": 36,
   "outputs": [],
   "source": [
    "def train_and_test_dropout(training,validation,testing,epochs, model_filename,dropout_rate,learning_rate):\n",
    "    do_model = DeepNN(dropout_rate=dropout_rate)\n",
    "    optimizer = optim.Adamax(do_model.parameters(), lr=learning_rate)\n",
    "    loss_fn = nn.CrossEntropyLoss()\n",
    "    train_loss =[]\n",
    "    val_loss=[]\n",
    "    valid_loss_min = 100\n",
    "    start_time=0\n",
    "    print('Dropout')\n",
    "    for i in epochs:\n",
    "        # print(i)\n",
    "        start_time=time.time()\n",
    "        loss = train(do_model,optimizer,loss_fn,training)\n",
    "        valid_loss = validate(do_model,loss_fn,validation)\n",
    "        if valid_loss < valid_loss_min:\n",
    "            torch.save(do_model.state_dict(),model_filename)\n",
    "        \n",
    "        train_loss.append(loss)\n",
    "        val_loss.append(valid_loss)\n",
    "        print(f'Epoch: {i}  Duration: {time.time()-start_time}')\n",
    "\n",
    "    y_pred_totals,test_loss = predict(do_model,loss_fn,testing)\n",
    "    return train_loss,val_loss,test_loss,y_pred_totals"
   ],
   "metadata": {
    "collapsed": false,
    "ExecuteTime": {
     "end_time": "2024-03-14T01:25:56.464177439Z",
     "start_time": "2024-03-14T01:25:56.445525710Z"
    }
   }
  },
  {
   "cell_type": "code",
   "execution_count": 37,
   "outputs": [],
   "source": [
    "def train_and_test_sector_wise(training,validation,testing,epochs, model_filename,learning_rate,group_size,drop_per_group):\n",
    "    SW_model = DeepNN_SW(group_size=group_size,drop_per_group=drop_per_group)\n",
    "    optimizer = optim.Adamax(SW_model.parameters(), lr=learning_rate)\n",
    "    loss_fn = nn.CrossEntropyLoss()\n",
    "    train_loss =[]\n",
    "    val_loss=[]\n",
    "    valid_loss_min = 100\n",
    "    start_time=0\n",
    "    print('Sector-Wise')\n",
    "    for i in epochs:\n",
    "        # print(i)\n",
    "        start_time=time.time()\n",
    "        loss = train(SW_model,optimizer,loss_fn,training)\n",
    "        valid_loss = validate(SW_model,loss_fn,validation)\n",
    "        if valid_loss < valid_loss_min:\n",
    "            torch.save(SW_model.state_dict(),model_filename)\n",
    "        \n",
    "        train_loss.append(loss)\n",
    "        val_loss.append(valid_loss)\n",
    "        print(f'Epoch: {i}  Duration: {time.time()-start_time}')\n",
    "\n",
    "    y_pred_totals,test_loss = predict(SW_model,loss_fn,testing)\n",
    "    return train_loss,val_loss,test_loss,y_pred_totals"
   ],
   "metadata": {
    "collapsed": false,
    "ExecuteTime": {
     "end_time": "2024-03-14T01:25:56.924913125Z",
     "start_time": "2024-03-14T01:25:56.908654063Z"
    }
   }
  },
  {
   "cell_type": "code",
   "execution_count": 38,
   "outputs": [],
   "source": [
    "def makeGraph(trn_loss, val_loss,y_hat,epochs,type):\n",
    "    fig, (ax11,ax12) = plt.subplots(2,1)\n",
    "    fig.set_figwidth(6)\n",
    "    fig.set_figheight(12)\n",
    "    \n",
    "    ax11.set_title(type + ' DropOut')\n",
    "    ax11.plot(epochs,trn_loss,'bo',label='Training Loss')\n",
    "    ax11.plot(epochs,val_loss,'r',label='Validation Loss')\n",
    "    ax11.set_ylim([0.0,1.5])\n",
    "    ax11.set(xlabel='Epochs',ylabel='Loss')\n",
    "    ax11.legend()\n",
    "    \n",
    "    ax12.bar(range(10),y_hat)\n",
    "    ax12.set(xlabel='Actual',ylabel='Predicted')\n",
    "    \n",
    "    \n",
    "    plt.show()"
   ],
   "metadata": {
    "collapsed": false,
    "ExecuteTime": {
     "end_time": "2024-03-14T01:25:59.089232500Z",
     "start_time": "2024-03-14T01:25:59.075088596Z"
    }
   }
  },
  {
   "cell_type": "code",
   "execution_count": 46,
   "outputs": [],
   "source": [
    "def overlayGraphs(do_loss, do_val_loss,sw_loss, sw_val_loss,epochs,dropout_rate):\n",
    "    fig = plt.figure(constrained_layout=True)\n",
    "    ax = fig.subplot_mosaic([['topL','topR'],['bottomL','bottomR']])\n",
    "    # fig, ((ax11,ax21),(ax12,ax22)) = plt.subplots(2,2)\n",
    "    fig.set_figwidth(12)\n",
    "    fig.set_figheight(12)\n",
    "    \n",
    "    ax['bottomL'].set_title(f'DO & SW Validation Loss p={dropout_rate}')\n",
    "    ax['bottomL'].plot(epochs,do_val_loss,'b',label='Regular')\n",
    "    ax['bottomL'].set_ylim([0.0,1.0])\n",
    "    ax['bottomL'].set(xlabel='Epochs',ylabel='Loss')\n",
    "    ax['bottomL'].plot(epochs,sw_val_loss,'g',label='Sector-Wise')\n",
    "    ax['bottomL'].legend()\n",
    "    \n",
    "    ax['bottomR'].set_title(f'DO & SW Training Loss p={dropout_rate}')\n",
    "    ax['bottomR'].plot(epochs,do_loss,'bo',label='Regular')\n",
    "    ax['bottomR'].set_ylim([0.0,1.0])\n",
    "    ax['bottomR'].set(xlabel='Epochs',ylabel='Loss')\n",
    "    ax['bottomR'].plot(epochs,sw_loss,'go',label='Sector-Wise')\n",
    "    ax['bottomR'].legend()\n",
    "    \n",
    "    ax['topL'].set_title(f'Regular DropOut p={dropout_rate}')\n",
    "    ax['topL'].plot(epochs,do_loss,'bo',label='Training Loss')\n",
    "    ax['topL'].plot(epochs,do_val_loss,'r',label='Validation Loss')\n",
    "    ax['topL'].set_ylim([0.0,1.0])\n",
    "    ax['topL'].set(xlabel='Epochs',ylabel='Loss')\n",
    "    ax['topL'].legend()\n",
    "    \n",
    "    ax['topR'].set_title(f'Sector-Wise DropOut p={dropout_rate}')\n",
    "    ax['topR'].plot(epochs,sw_loss,'bo',label='Training Loss')\n",
    "    ax['topR'].plot(epochs,sw_val_loss,'r',label='Validation Loss')\n",
    "    ax['topR'].set_ylim([0.0,1.0])\n",
    "    ax['topR'].set(xlabel='Epochs',ylabel='Loss')\n",
    "    ax['topR'].legend()\n",
    "   \n",
    "    plt.show()"
   ],
   "metadata": {
    "collapsed": false,
    "ExecuteTime": {
     "end_time": "2024-03-15T06:39:17.176408815Z",
     "start_time": "2024-03-15T06:39:17.059684854Z"
    }
   }
  },
  {
   "cell_type": "code",
   "execution_count": 40,
   "outputs": [],
   "source": [
    "# makeGraph(sw_t_loss,sw_v_loss,sw_correct_class_totals, epochs, 'Sector-Wise')"
   ],
   "metadata": {
    "collapsed": false,
    "ExecuteTime": {
     "end_time": "2024-03-14T01:25:59.530551275Z",
     "start_time": "2024-03-14T01:25:59.517782208Z"
    }
   }
  },
  {
   "cell_type": "code",
   "execution_count": 41,
   "outputs": [],
   "source": [
    "global l1\n",
    "global l2\n",
    "global l3\n",
    "global l4\n",
    "l1 = 1200 #1024\n",
    "l2 = 1200 #1024\n",
    "l3 = 240  #256\n",
    "l4 = 120  #128\n",
    "\n",
    "epochs=range(100)\n",
    "learning_rate=0.01"
   ],
   "metadata": {
    "collapsed": false,
    "ExecuteTime": {
     "end_time": "2024-03-14T01:25:59.995097504Z",
     "start_time": "2024-03-14T01:25:59.982913109Z"
    }
   }
  },
  {
   "cell_type": "code",
   "execution_count": null,
   "outputs": [
    {
     "name": "stdout",
     "output_type": "stream",
     "text": [
      "Sector-Wise\n"
     ]
    }
   ],
   "source": [
    "# dropout_rate = 0.0\n",
    "# group_size=100\n",
    "# drop_per_group=0\n",
    "# sw_t_loss100,   sw_v_loss100,   sw_tst_loss100, sw_correct_class_totals100 = train_and_test_sector_wise(train_loader,valid_loader,test_loader,epochs,'sw-model-mnist-100.pt',learning_rate,group_size,drop_per_group)\n",
    "# do_t_loss100,   do_v_loss100,   do_tst_loss100, do_correct_class_totals100 = train_and_test_dropout(train_loader,valid_loader,test_loader,epochs,'do-model-mnist-100.pt',dropout_rate,learning_rate)\n",
    "# \n",
    "# dropout_rate = 0.10\n",
    "# group_size=10\n",
    "# drop_per_group=1\n",
    "# sw_t_loss90,   sw_v_loss90,   sw_tst_loss90, sw_correct_class_totals90 = train_and_test_sector_wise(train_loader,valid_loader,test_loader,epochs,'sw-model-mnist-90.pt',learning_rate,group_size,drop_per_group)\n",
    "# do_t_loss90,   do_v_loss90,   do_tst_loss90, do_correct_class_totals90 = train_and_test_dropout(train_loader,valid_loader,test_loader,epochs,'do-model-mnist-90.pt',dropout_rate,learning_rate)\n",
    "# \n",
    "# dropout_rate = 0.20\n",
    "# group_size=5\n",
    "# drop_per_group=1\n",
    "# sw_t_loss80,   sw_v_loss80,   sw_tst_loss80, sw_correct_class_totals80 = train_and_test_sector_wise(train_loader,valid_loader,test_loader,epochs,'sw-model-mnist-80.pt',learning_rate,group_size,drop_per_group)\n",
    "# do_t_loss80,   do_v_loss80,   do_tst_loss80, do_correct_class_totals80 = train_and_test_dropout(train_loader,valid_loader,test_loader,epochs,'do-model-mnist-80.pt',dropout_rate,learning_rate)\n",
    "# \n",
    "# dropout_rate = 0.25\n",
    "# group_size=4\n",
    "# drop_per_group=1\n",
    "# sw_t_loss75,   sw_v_loss75,   sw_tst_loss75, sw_correct_class_totals75 = train_and_test_sector_wise(train_loader,valid_loader,test_loader,epochs,'sw-model-mnist-75.pt',learning_rate,group_size,drop_per_group)\n",
    "# do_t_loss75,   do_v_loss75,   do_tst_loss75, do_correct_class_totals75 = train_and_test_dropout(train_loader,valid_loader,test_loader,epochs,'do-model-mnist-75.pt',dropout_rate,learning_rate)\n",
    "# \n",
    "# dropout_rate = 0.33\n",
    "# group_size=3\n",
    "# drop_per_group=1\n",
    "# sw_t_loss66,   sw_v_loss66,   sw_tst_loss66, sw_correct_class_totals66 = train_and_test_sector_wise(train_loader,valid_loader,test_loader,epochs,'sw-model-mnist-66.pt',learning_rate,group_size,drop_per_group)\n",
    "# do_t_loss66,   do_v_loss66,   do_tst_loss66, do_correct_class_totals66 = train_and_test_dropout(train_loader,valid_loader,test_loader,epochs,'do-model-mnist-66.pt',dropout_rate,learning_rate)\n",
    "# \n",
    "# dropout_rate = 0.5\n",
    "# group_size=2\n",
    "# drop_per_group=1\n",
    "# sw_t_loss50,   sw_v_loss50,   sw_tst_loss50, sw_correct_class_totals50 = train_and_test_sector_wise(train_loader,valid_loader,test_loader,epochs,'sw-model-mnist-50.pt',learning_rate,group_size,drop_per_group)\n",
    "# do_t_loss50,   do_v_loss50,   do_tst_loss50, do_correct_class_totals50 = train_and_test_dropout(train_loader,valid_loader,test_loader,epochs,'do-model-mnist-50.pt',dropout_rate,learning_rate)\n",
    "# \n",
    "# dropout_rate = 0.66\n",
    "# group_size=3\n",
    "# drop_per_group=2\n",
    "# sw_t_loss33,   sw_v_loss33,   sw_tst_loss33, sw_correct_class_totals33 = train_and_test_sector_wise(train_loader,valid_loader,test_loader,epochs,'sw-model-mnist-33.pt',learning_rate,group_size,drop_per_group)\n",
    "# do_t_loss33,   do_v_loss33,   do_tst_loss33, do_correct_class_totals33 = train_and_test_dropout(train_loader,valid_loader,test_loader,epochs,'do-model-mnist-33.pt',dropout_rate,learning_rate)\n",
    "\n",
    "dropout_rate = 0.75\n",
    "group_size=4\n",
    "drop_per_group=3\n",
    "sw_t_loss25,   sw_v_loss25,   sw_tst_loss25, sw_correct_class_totals25 = train_and_test_sector_wise(train_loader,valid_loader,test_loader,epochs,'sw-model-mnist-25.pt',learning_rate,group_size,drop_per_group)\n",
    "do_t_loss25,   do_v_loss25,   do_tst_loss25, do_correct_class_totals25 = train_and_test_dropout(train_loader,valid_loader,test_loader,epochs,'do-model-mnist-25.pt',dropout_rate,learning_rate)\n",
    "\n",
    "dropout_rate = 0.80\n",
    "group_size=5\n",
    "drop_per_group=4\n",
    "sw_t_loss20,   sw_v_loss20,   sw_tst_loss20, sw_correct_class_totals20 = train_and_test_sector_wise(train_loader,valid_loader,test_loader,epochs,'sw-model-mnist-20.pt',learning_rate,group_size,drop_per_group)\n",
    "do_t_loss20,   do_v_loss20,   do_tst_loss20, do_correct_class_totals20 = train_and_test_dropout(train_loader,valid_loader,test_loader,epochs,'do-model-mnist-20.pt',dropout_rate,learning_rate)\n",
    "\n",
    "dropout_rate = 0.90\n",
    "group_size=10\n",
    "drop_per_group=9\n",
    "sw_t_loss10,   sw_v_loss10,   sw_tst_loss10, sw_correct_class_totals10 = train_and_test_sector_wise(train_loader,valid_loader,test_loader,epochs,'sw-model-mnist-10.pt',learning_rate,group_size,drop_per_group)\n",
    "do_t_loss10,   do_v_loss10,   do_tst_loss10, do_correct_class_totals10 = train_and_test_dropout(train_loader,valid_loader,test_loader,epochs,'do-model-mnist-10.pt',dropout_rate,learning_rate)\n"
   ],
   "metadata": {
    "collapsed": false,
    "is_executing": true,
    "ExecuteTime": {
     "start_time": "2024-03-15T06:48:50.770950721Z"
    }
   }
  },
  {
   "cell_type": "code",
   "execution_count": null,
   "outputs": [],
   "source": [
    "overlayGraphs(do_t_loss100,do_v_loss100,sw_t_loss100,sw_v_loss100, epochs,0.0)\n",
    "overlayGraphs(do_t_loss90,do_v_loss90,sw_t_loss90,sw_v_loss90, epochs,0.90)\n",
    "overlayGraphs(do_t_loss80,do_v_loss80,sw_t_loss80,sw_v_loss80, epochs,0.80)\n",
    "overlayGraphs(do_t_loss75,do_v_loss75,sw_t_loss75,sw_v_loss75, epochs,0.75)\n",
    "overlayGraphs(do_t_loss66,do_v_loss66,sw_t_loss66,sw_v_loss66, epochs,0.66)\n",
    "overlayGraphs(do_t_loss50,do_v_loss50,sw_t_loss50,sw_v_loss50, epochs,0.50)\n",
    "overlayGraphs(do_t_loss33,do_v_loss33,sw_t_loss33,sw_v_loss33, epochs,0.33)\n",
    "overlayGraphs(do_t_loss25,do_v_loss25,sw_t_loss25,sw_v_loss25, epochs,0.25)\n",
    "overlayGraphs(do_t_loss20,do_v_loss20,sw_t_loss20,sw_v_loss20, epochs,0.20)\n",
    "overlayGraphs(do_t_loss10,do_v_loss10,sw_t_loss10,sw_v_loss10, epochs,0.10)\n"
   ],
   "metadata": {
    "collapsed": false,
    "is_executing": true
   }
  },
  {
   "cell_type": "code",
   "execution_count": null,
   "outputs": [],
   "source": [],
   "metadata": {
    "collapsed": false
   }
  }
 ],
 "metadata": {
  "accelerator": "GPU",
  "colab": {
   "provenance": []
  },
  "kernelspec": {
   "display_name": "Python 3 (ipykernel)",
   "language": "python",
   "name": "python3"
  },
  "language_info": {
   "codemirror_mode": {
    "name": "ipython",
    "version": 3
   },
   "file_extension": ".py",
   "mimetype": "text/x-python",
   "name": "python",
   "nbconvert_exporter": "python",
   "pygments_lexer": "ipython3",
   "version": "3.11.5"
  }
 },
 "nbformat": 4,
 "nbformat_minor": 0
}
