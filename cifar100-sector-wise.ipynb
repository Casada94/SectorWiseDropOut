{
 "cells": [
  {
   "cell_type": "code",
   "execution_count": 1,
   "id": "initial_id",
   "metadata": {
    "collapsed": true,
    "ExecuteTime": {
     "end_time": "2023-11-21T04:51:51.119196545Z",
     "start_time": "2023-11-21T04:51:47.784128538Z"
    }
   },
   "outputs": [
    {
     "name": "stdout",
     "output_type": "stream",
     "text": [
      "CUDA is not available.  Training on CPU ...\n"
     ]
    }
   ],
   "source": [
    "import random\n",
    "import numpy as np\n",
    "import matplotlib.pyplot as plt\n",
    "\n",
    "import torch\n",
    "import torch.nn as nn\n",
    "import torch.nn.functional as F\n",
    "import torch.optim as optim\n",
    "\n",
    "# check if CUDA is available\n",
    "train_on_gpu = torch.cuda.is_available()\n",
    "\n",
    "if not train_on_gpu:\n",
    "    print('CUDA is not available.  Training on CPU ...')\n",
    "else:\n",
    "    print('CUDA is available!  Training on GPU ...')"
   ]
  },
  {
   "cell_type": "code",
   "execution_count": 2,
   "outputs": [
    {
     "name": "stderr",
     "output_type": "stream",
     "text": [
      "/home/clayton/anaconda3/lib/python3.11/site-packages/torchvision/io/image.py:13: UserWarning: Failed to load image Python extension: '/home/clayton/anaconda3/lib/python3.11/site-packages/torchvision/image.so: undefined symbol: _ZN5torch3jit17parseSchemaOrNameERKNSt7__cxx1112basic_stringIcSt11char_traitsIcESaIcEEE'If you don't plan on using image functionality from `torchvision.io`, you can ignore this warning. Otherwise, there might be something wrong with your environment. Did you have `libjpeg` or `libpng` installed before building `torchvision` from source?\n",
      "  warn(\n"
     ]
    },
    {
     "name": "stdout",
     "output_type": "stream",
     "text": [
      "Files already downloaded and verified\n",
      "Files already downloaded and verified\n",
      "1250 313\n"
     ]
    }
   ],
   "source": [
    "\n",
    "from torchvision import datasets\n",
    "import torchvision.transforms as transforms\n",
    "from torch.utils.data.sampler import SubsetRandomSampler\n",
    "\n",
    "# number of subprocesses to use for data loading\n",
    "num_workers = 0\n",
    "# how many samples per batch to load\n",
    "batch_size = 32\n",
    "# percentage of training set to use as validation\n",
    "valid_size = 0.2\n",
    "\n",
    "# convert data to a normalized torch.FloatTensor\n",
    "transform = transforms.Compose([\n",
    "    transforms.ToTensor(),\n",
    "    transforms.Normalize((0.5, 0.5, 0.5), (0.5, 0.5, 0.5))\n",
    "    ])\n",
    "\n",
    "# choose the training and test datasets\n",
    "train_data = datasets.CIFAR100('data', train=True,\n",
    "                              download=True, transform=transform)\n",
    "test_data = datasets.CIFAR100('data', train=False,\n",
    "                             download=True, transform=transform)\n",
    "\n",
    "# obtain training indices that will be used for validation\n",
    "num_train = len(train_data)\n",
    "\n",
    "indices = list(range(num_train))\n",
    "np.random.shuffle(indices)\n",
    "split = int(np.floor(valid_size * num_train))\n",
    "train_idx, valid_idx = indices[split:], indices[:split]\n",
    "\n",
    "# define samplers for obtaining training and validation batches\n",
    "train_sampler = SubsetRandomSampler(train_idx)\n",
    "valid_sampler = SubsetRandomSampler(valid_idx)\n",
    "\n",
    "# prepare data loaders (combine dataset and sampler)\n",
    "train_loader = torch.utils.data.DataLoader(train_data, batch_size=batch_size,\n",
    "    sampler=train_sampler, num_workers=num_workers)\n",
    "valid_loader = torch.utils.data.DataLoader(train_data, batch_size=batch_size,\n",
    "    sampler=valid_sampler, num_workers=num_workers)\n",
    "test_loader = torch.utils.data.DataLoader(test_data, batch_size=batch_size,\n",
    "    num_workers=num_workers)\n",
    "print(len(train_loader),len(valid_loader))\n"
   ],
   "metadata": {
    "collapsed": false,
    "ExecuteTime": {
     "end_time": "2023-11-21T04:51:58.007080484Z",
     "start_time": "2023-11-21T04:51:53.444853335Z"
    }
   },
   "id": "374e547afc42ad5a"
  },
  {
   "cell_type": "code",
   "execution_count": 3,
   "outputs": [],
   "source": [
    "#Standard CNN and NN\n",
    "class Net(nn.Module):\n",
    "  def __init__(self,**kwargs):\n",
    "    super(Net, self).__init__()\n",
    "    self.conv1 = nn.Conv2d(3, 64, 3, padding=1)\n",
    "    self.conv2 = nn.Conv2d(64, 128, 3, padding=1)\n",
    "    self.conv3 = nn.Conv2d(128, 256, 3, padding=1)\n",
    "    self.conv4 = nn.Conv2d(256, 512, 3, padding=1)\n",
    "    self.dropout=nn.Dropout(kwargs['dropout_rate'])\n",
    "    self.pool = nn.MaxPool2d(2, 2)\n",
    "    self.fc1 = nn.Linear(512 * 4 * 4, 1024)\n",
    "    self.fc2 = nn.Linear(1024, 512)\n",
    "    self.fc3 = nn.Linear(512, 100)  # Output size should match the number of classes in CIFAR-100\n",
    "\n",
    "  def forward(self, x):\n",
    "      x = self.pool(nn.functional.relu(self.conv1(x)))\n",
    "      x = self.pool(nn.functional.relu(self.conv2(x)))\n",
    "      x = self.pool(nn.functional.relu(self.conv3(x)))\n",
    "      x = (nn.functional.relu(self.conv4(x)))\n",
    "      x = x.view(-1, 512 * 4 * 4)\n",
    "      x = nn.functional.relu(self.fc1(self.dropout(x)))\n",
    "      x = nn.functional.relu(self.fc2(self.dropout(x)))\n",
    "      x = self.fc3(self.dropout(x))\n",
    "      return x"
   ],
   "metadata": {
    "collapsed": false,
    "ExecuteTime": {
     "end_time": "2023-11-21T04:52:00.432023485Z",
     "start_time": "2023-11-21T04:52:00.426728882Z"
    }
   },
   "id": "64f54197fc51240d"
  },
  {
   "cell_type": "code",
   "execution_count": 4,
   "outputs": [],
   "source": [
    "#Sector-wise dropout layer\n",
    "class SWDropOut(torch.nn.Module):\n",
    "    def __init__(self,**kwargs):\n",
    "        super().__init__()\n",
    "        self.group_size = int(kwargs['group_size'])\n",
    "        self.drop_per_group = int(kwargs['drop_per_group'])\n",
    "        self.scalar = 1/((self.group_size-self.drop_per_group)/self.group_size)\n",
    "     \n",
    "    def forward(self, x):\n",
    "        if self.training:\n",
    "            scalar_mask = torch.full(x.size(),self.scalar)\n",
    "            batch,feature = x.size()\n",
    "            for item in range(batch):\n",
    "                for i in range(0,feature,self.group_size):\n",
    "                    masked_count=0\n",
    "                    while masked_count < self.drop_per_group:\n",
    "                        index = random.randint(0, self.group_size-1) \n",
    "                        if scalar_mask[item][i+index] !=0:\n",
    "                            scalar_mask[item][i+index]=0\n",
    "                            masked_count+=1\n",
    "            x = torch.multiply(x,scalar_mask)\n",
    "            # print(x)\n",
    "            return x\n",
    "        else:\n",
    "            return x\n"
   ],
   "metadata": {
    "collapsed": false,
    "ExecuteTime": {
     "end_time": "2023-11-21T04:52:11.695292334Z",
     "start_time": "2023-11-21T04:52:11.686386907Z"
    }
   },
   "id": "d43aa8f98979db8a"
  },
  {
   "cell_type": "code",
   "execution_count": 5,
   "outputs": [],
   "source": [
    "#Sector-Wise dropout network\n",
    "class SwNet(nn.Module):\n",
    "  def __init__(self, **kwargs):\n",
    "    super(SwNet, self).__init__()\n",
    "    # self.relu = nn.ReLU(False)\n",
    "    # self.flatten = nn.Flatten()\n",
    "    self.conv1 = nn.Conv2d(3, 64, 3, padding=1)\n",
    "    self.conv2 = nn.Conv2d(64, 128, 3, padding=1)\n",
    "    self.conv3 = nn.Conv2d(128, 256, 3, padding=1)\n",
    "    self.conv4 = nn.Conv2d(256, 512, 3, padding=1)\n",
    "    self.pool = nn.MaxPool2d(2, 2)\n",
    "    self.dropout1=SWDropOut(group_size=kwargs['group_size'], drop_per_group=kwargs['drop_per_group'])\n",
    "    self.fc1 = nn.Linear(512 * 4 * 4, 1024)\n",
    "    self.dropout2=SWDropOut(group_size=kwargs['group_size'], drop_per_group=kwargs['drop_per_group'])\n",
    "    self.fc2 = nn.Linear(1024, 512)\n",
    "    self.dropout3=SWDropOut(group_size=kwargs['group_size'], drop_per_group=kwargs['drop_per_group'])\n",
    "    self.fc3 = nn.Linear(512, 100)  # Output size should match the number of classes in CIFAR-100\n",
    "\n",
    "  def forward(self, x):\n",
    "      x = self.pool(nn.functional.relu(self.conv1(x)))\n",
    "      x = self.pool(nn.functional.relu(self.conv2(x)))\n",
    "      x = self.pool(nn.functional.relu(self.conv3(x)))\n",
    "      x = nn.functional.relu(self.conv4(x))\n",
    "      x = x.view(-1, 512 * 4 * 4)\n",
    "      x = nn.functional.relu(self.fc1(self.dropout1(x)))\n",
    "      x =nn.functional.relu(self.fc2(self.dropout2(x)))\n",
    "      x = self.fc3(self.dropout3(x))\n",
    "      return x"
   ],
   "metadata": {
    "collapsed": false,
    "ExecuteTime": {
     "end_time": "2023-11-21T04:52:13.570991227Z",
     "start_time": "2023-11-21T04:52:13.563926680Z"
    }
   },
   "id": "239f95fa9d8c9045"
  },
  {
   "cell_type": "code",
   "execution_count": 6,
   "outputs": [],
   "source": [
    "def train(model,optim,criterion,train_loader):\n",
    "    train_loss=0\n",
    "    \n",
    "    for data, target in train_loader:\n",
    "        if train_on_gpu:\n",
    "            data,target = data.cuda(), target.cuda()\n",
    "        \n",
    "        optim.zero_grad()\n",
    "        output= model(data)\n",
    "        loss = criterion(output,target)\n",
    "        loss.backward()\n",
    "        optim.step()\n",
    "        \n",
    "        train_loss+=loss.item()\n",
    "    \n",
    "    return train_loss/len(train_loader)\n",
    "\n",
    "def validate(model,criterion,valid_loader):\n",
    "    model.eval()\n",
    "    valid_loss=0\n",
    "    \n",
    "    for data, target in valid_loader:\n",
    "        if train_on_gpu:\n",
    "            data, target = data.cuda(), target.cuda()\n",
    "        output = model(data)\n",
    "        loss = criterion(output, target)\n",
    "        valid_loss += loss.item()\n",
    "        \n",
    "    valid_loss = valid_loss/len(valid_loader)\n",
    "    \n",
    "    return valid_loss\n",
    "\n",
    "def predict(model,criterion,test_loader):\n",
    "    model.eval()\n",
    "    class_correct = list(0. for i in range(100))\n",
    "    class_total = list(0. for i in range(100))\n",
    "    test_loss=0\n",
    "    for data, target in test_loader:\n",
    "        if train_on_gpu:\n",
    "            data,target = data.cuda(), target.cuda()\n",
    "        \n",
    "        prediction = model(data)\n",
    "        test_loss += criterion(prediction, target)\n",
    "    \n",
    "        _, pred = torch.max(prediction, 1)\n",
    "        correct_tensor = pred.eq(target.data.view_as(pred))\n",
    "        \n",
    "        correct = np.squeeze(correct_tensor.numpy()) if not train_on_gpu else np.squeeze(correct_tensor.cpu().numpy())\n",
    "        \n",
    "        for i in range(len(data)):\n",
    "            label = target.data[i]\n",
    "            class_correct[label] += correct[i].item()\n",
    "            class_total[label] += 1\n",
    "    \n",
    "    test_loss = test_loss/len(test_loader.dataset)\n",
    "    print(len(test_loader.dataset),len(test_loader))\n",
    "    print('Test Loss: {:.6f}\\n'.format(test_loss))\n",
    "    \n",
    "    for i in range(100):\n",
    "        if class_total[i] > 0:\n",
    "            print('Test Accuracy of %5s: %2d%% (%2d/%2d)' % (\n",
    "                i, 100 * class_correct[i] / class_total[i],\n",
    "                np.sum(class_correct[i]), np.sum(class_total[i])))\n",
    "        else:\n",
    "            print('Test Accuracy of %5s: N/A (no training examples)' % (i))\n",
    "    \n",
    "    print('\\nTest Accuracy (Overall): %2d%% (%2d/%2d)' % (\n",
    "        100. * np.sum(class_correct) / np.sum(class_total),\n",
    "        np.sum(class_correct), np.sum(class_total)))\n",
    "    \n",
    "    return class_correct,test_loss"
   ],
   "metadata": {
    "collapsed": false,
    "ExecuteTime": {
     "end_time": "2023-11-21T04:52:28.695028158Z",
     "start_time": "2023-11-21T04:52:28.651006441Z"
    }
   },
   "id": "656c6ea65c5b867e"
  },
  {
   "cell_type": "code",
   "execution_count": 11,
   "outputs": [],
   "source": [
    "def train_and_test_dropout(model,training,validation,testing,epochs):\n",
    "    optimizer = optim.Adamax(model.parameters(), lr=.001)\n",
    "    loss_fn = nn.CrossEntropyLoss()\n",
    "    train_loss =[]\n",
    "    val_loss=[]\n",
    "    for i in epochs:\n",
    "        print(i)\n",
    "        loss = train(model,optimizer,loss_fn,training)\n",
    "        valid_loss = validate(model,loss_fn,validation)\n",
    "        train_loss.append(loss)\n",
    "        val_loss.append(valid_loss)\n",
    "\n",
    "    y_pred_totals,test_loss = predict(model,loss_fn,testing)\n",
    "    \n",
    "    return train_loss,val_loss,test_loss,y_pred_totals"
   ],
   "metadata": {
    "collapsed": false,
    "ExecuteTime": {
     "end_time": "2023-11-21T06:56:48.996304133Z",
     "start_time": "2023-11-21T06:56:48.954993772Z"
    }
   },
   "id": "565908cfd286edc8"
  },
  {
   "cell_type": "code",
   "execution_count": 8,
   "outputs": [],
   "source": [
    "def makeGraphs_2(do_loss, do_val_loss,do_y_hat,sw_loss, sw_val_loss,sw_y_hat,epochs):\n",
    "    fig, ((ax11,ax21),(ax12,ax22)) = plt.subplots(2,2)\n",
    "    fig.set_figwidth(12)\n",
    "    fig.set_figheight(12)\n",
    "    \n",
    "    ax11.set_title('Regular DropOut')\n",
    "    ax11.plot(epochs,do_loss,'bo',label='Training Loss')\n",
    "    ax11.plot(epochs,do_val_loss,'r',label='Validation Loss')\n",
    "    ax11.set(xlabel='Epochs',ylabel='Loss')\n",
    "    # ax11.set_ylim(0.1,1.5)\n",
    "    ax11.legend()\n",
    "    \n",
    "    # x_temp=[-.25,5.5]\n",
    "    # y_temp=[-0.25,5.5]\n",
    "    ax12.bar(range(100),do_y_hat)\n",
    "    # ax12.plot(x_temp, y_temp, 'r')\n",
    "    ax12.set(xlabel='Actual',ylabel='Predicted')\n",
    "    # ax12.set_ylim(-.25,5.5)\n",
    "    # ax12.set_xlim(-.25,5.5)\n",
    "    \n",
    "    ax21.set_title('Inverse Group Based DropOut')\n",
    "    ax21.plot(epochs,sw_loss,'bo',label='Training Loss')\n",
    "    ax21.plot(epochs,sw_val_loss,'r',label='Validation Loss')\n",
    "    ax21.set(xlabel='Epochs',ylabel='Loss')\n",
    "    # ax21.set_ylim(0.1,1.5)\n",
    "    ax21.legend()\n",
    "   \n",
    "    ax22.bar(range(100),sw_y_hat)\n",
    "    # ax22.plot(x_temp, y_temp, 'r')\n",
    "    ax22.set(xlabel='Actual',ylabel='Predicted')\n",
    "    # ax22.set_ylim(-.25,5.5)\n",
    "    # ax22.set_xlim(-.25,5.5)\n",
    "    plt.show()"
   ],
   "metadata": {
    "collapsed": false,
    "ExecuteTime": {
     "end_time": "2023-11-21T04:52:38.677336836Z",
     "start_time": "2023-11-21T04:52:38.670721134Z"
    }
   },
   "id": "544e5fb0b89fe71c"
  },
  {
   "cell_type": "code",
   "execution_count": null,
   "outputs": [
    {
     "name": "stdout",
     "output_type": "stream",
     "text": [
      "0\n"
     ]
    }
   ],
   "source": [
    "epochs=range(25)\n",
    "\n",
    "dropout_rate=0.5\n",
    "group_size=2\n",
    "drop_per_group=1\n",
    "\n",
    "SW_model = SwNet(group_size=group_size,drop_per_group=drop_per_group)\n",
    "do_model = Net(dropout_rate=dropout_rate)\n",
    "\n",
    "sw_t_loss,sw_v_loss,sw_tst_loss,sw_correct_class_totals = train_and_test_dropout(SW_model,train_loader,valid_loader,test_loader,epochs)\n",
    "print(\"Sector-Wise Loss: \",sw_tst_loss)\n",
    "do_t_loss,do_v_loss,do_tst_loss,do_correct_class_totals = train_and_test_dropout(SW_model,train_loader,valid_loader,test_loader,epochs)\n",
    "\n",
    "print(\"Dropout Loss: \",do_tst_loss)\n",
    "makeGraphs_2(do_t_loss,do_v_loss,do_correct_class_totals,sw_t_loss,sw_v_loss,sw_correct_class_totals, epochs)"
   ],
   "metadata": {
    "collapsed": false,
    "is_executing": true,
    "ExecuteTime": {
     "start_time": "2023-11-21T06:57:06.213786950Z"
    }
   },
   "id": "6f186e3928f781b0"
  },
  {
   "cell_type": "code",
   "execution_count": 10,
   "outputs": [
    {
     "data": {
      "text/plain": "<Figure size 1200x1200 with 4 Axes>",
      "image/png": "[encoded data removed]"
     },
     "metadata": {},
     "output_type": "display_data"
    },
    {
     "name": "stdout",
     "output_type": "stream",
     "text": [
      "[4.0, 0.0, 0.0, 0.0, 6.0, 0.0, 0.0, 2.0, 0.0, 1.0, 0.0, 0.0, 0.0, 0.0, 11.0, 0.0, 0.0, 9.0, 29.0, 0.0, 11.0, 0.0, 0.0, 21.0, 37.0, 0.0, 0.0, 5.0, 2.0, 0.0, 1.0, 0.0, 0.0, 44.0, 3.0, 0.0, 22.0, 1.0, 7.0, 0.0, 0.0, 53.0, 1.0, 18.0, 0.0, 0.0, 0.0, 20.0, 0.0, 39.0, 0.0, 0.0, 80.0, 32.0, 7.0, 0.0, 4.0, 1.0, 0.0, 1.0, 48.0, 19.0, 37.0, 0.0, 0.0, 0.0, 0.0, 8.0, 21.0, 4.0, 7.0, 0.0, 2.0, 0.0, 0.0, 1.0, 1.0, 0.0, 0.0, 0.0, 0.0, 4.0, 74.0, 6.0, 0.0, 1.0, 5.0, 0.0, 0.0, 2.0, 0.0, 0.0, 29.0, 0.0, 0.0, 57.0, 0.0, 14.0, 3.0, 0.0]\n"
     ]
    }
   ],
   "source": [
    "makeGraphs_2(sw_t_loss,sw_v_loss,sw_correct_class_totals,sw_t_loss,sw_v_loss,sw_correct_class_totals, epochs)\n",
    "print(sw_correct_class_totals)"
   ],
   "metadata": {
    "collapsed": false,
    "ExecuteTime": {
     "end_time": "2023-11-21T05:54:34.283536129Z",
     "start_time": "2023-11-21T05:54:33.583750365Z"
    }
   },
   "id": "1bde5f7a3aa2f68c"
  },
  {
   "cell_type": "code",
   "execution_count": null,
   "outputs": [],
   "source": [],
   "metadata": {
    "collapsed": false
   },
   "id": "8d08c36c8b6d585a"
  }
 ],
 "metadata": {
  "kernelspec": {
   "display_name": "Python 3",
   "language": "python",
   "name": "python3"
  },
  "language_info": {
   "codemirror_mode": {
    "name": "ipython",
    "version": 2
   },
   "file_extension": ".py",
   "mimetype": "text/x-python",
   "name": "python",
   "nbconvert_exporter": "python",
   "pygments_lexer": "ipython2",
   "version": "2.7.6"
  }
 },
 "nbformat": 4,
 "nbformat_minor": 5
}
