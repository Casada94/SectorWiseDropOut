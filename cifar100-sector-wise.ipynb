{
 "cells": [
  {
   "cell_type": "code",
   "execution_count": 12,
   "id": "initial_id",
   "metadata": {
    "collapsed": true,
    "ExecuteTime": {
     "end_time": "2023-11-18T05:01:26.574344882Z",
     "start_time": "2023-11-18T05:01:26.533383219Z"
    }
   },
   "outputs": [
    {
     "name": "stdout",
     "output_type": "stream",
     "text": [
      "CUDA is not available.  Training on CPU ...\n"
     ]
    }
   ],
   "source": [
    "import random\n",
    "import numpy as np\n",
    "import matplotlib.pyplot as plt\n",
    "\n",
    "import torch\n",
    "import torch.nn as nn\n",
    "import torch.nn.functional as F\n",
    "import torch.optim as optim\n",
    "\n",
    "# check if CUDA is available\n",
    "train_on_gpu = torch.cuda.is_available()\n",
    "\n",
    "if not train_on_gpu:\n",
    "    print('CUDA is not available.  Training on CPU ...')\n",
    "else:\n",
    "    print('CUDA is available!  Training on GPU ...')"
   ]
  },
  {
   "cell_type": "code",
   "execution_count": 2,
   "outputs": [
    {
     "name": "stderr",
     "output_type": "stream",
     "text": [
      "/home/clayton/anaconda3/lib/python3.11/site-packages/torchvision/io/image.py:13: UserWarning: Failed to load image Python extension: '/home/clayton/anaconda3/lib/python3.11/site-packages/torchvision/image.so: undefined symbol: _ZN5torch3jit17parseSchemaOrNameERKNSt7__cxx1112basic_stringIcSt11char_traitsIcESaIcEEE'If you don't plan on using image functionality from `torchvision.io`, you can ignore this warning. Otherwise, there might be something wrong with your environment. Did you have `libjpeg` or `libpng` installed before building `torchvision` from source?\n",
      "  warn(\n"
     ]
    },
    {
     "name": "stdout",
     "output_type": "stream",
     "text": [
      "Downloading https://www.cs.toronto.edu/~kriz/cifar-100-python.tar.gz to data/cifar-100-python.tar.gz\n"
     ]
    },
    {
     "name": "stderr",
     "output_type": "stream",
     "text": [
      "100%|██████████| 169001437/169001437 [00:08<00:00, 20830827.69it/s]\n"
     ]
    },
    {
     "name": "stdout",
     "output_type": "stream",
     "text": [
      "Extracting data/cifar-100-python.tar.gz to data\n",
      "Files already downloaded and verified\n",
      "1250 313\n"
     ]
    }
   ],
   "source": [
    "\n",
    "from torchvision import datasets\n",
    "import torchvision.transforms as transforms\n",
    "from torch.utils.data.sampler import SubsetRandomSampler\n",
    "\n",
    "# number of subprocesses to use for data loading\n",
    "num_workers = 0\n",
    "# how many samples per batch to load\n",
    "batch_size = 32\n",
    "# percentage of training set to use as validation\n",
    "valid_size = 0.2\n",
    "\n",
    "# convert data to a normalized torch.FloatTensor\n",
    "transform = transforms.Compose([\n",
    "    transforms.ToTensor(),\n",
    "    transforms.Normalize((0.5, 0.5, 0.5), (0.5, 0.5, 0.5))\n",
    "    ])\n",
    "\n",
    "# choose the training and test datasets\n",
    "train_data = datasets.CIFAR100('data', train=True,\n",
    "                              download=True, transform=transform)\n",
    "test_data = datasets.CIFAR100('data', train=False,\n",
    "                             download=True, transform=transform)\n",
    "\n",
    "# obtain training indices that will be used for validation\n",
    "num_train = len(train_data)\n",
    "\n",
    "indices = list(range(num_train))\n",
    "np.random.shuffle(indices)\n",
    "split = int(np.floor(valid_size * num_train))\n",
    "train_idx, valid_idx = indices[split:], indices[:split]\n",
    "\n",
    "# define samplers for obtaining training and validation batches\n",
    "train_sampler = SubsetRandomSampler(train_idx)\n",
    "valid_sampler = SubsetRandomSampler(valid_idx)\n",
    "\n",
    "# prepare data loaders (combine dataset and sampler)\n",
    "train_loader = torch.utils.data.DataLoader(train_data, batch_size=batch_size,\n",
    "    sampler=train_sampler, num_workers=num_workers)\n",
    "valid_loader = torch.utils.data.DataLoader(train_data, batch_size=batch_size,\n",
    "    sampler=valid_sampler, num_workers=num_workers)\n",
    "test_loader = torch.utils.data.DataLoader(test_data, batch_size=batch_size,\n",
    "    num_workers=num_workers)\n",
    "print(len(train_loader),len(valid_loader))\n"
   ],
   "metadata": {
    "collapsed": false,
    "ExecuteTime": {
     "end_time": "2023-11-18T02:24:26.973990461Z",
     "start_time": "2023-11-18T02:24:14.584510138Z"
    }
   },
   "id": "374e547afc42ad5a"
  },
  {
   "cell_type": "code",
   "execution_count": 14,
   "outputs": [],
   "source": [
    "#Standard CNN and NN\n",
    "class Net(nn.Module):\n",
    "  def __init__(self,**kwargs):\n",
    "    super(Net, self).__init__()\n",
    "    self.conv1 = nn.Conv2d(3, 64, 3, padding=1)\n",
    "    self.conv2 = nn.Conv2d(64, 128, 3, padding=1)\n",
    "    self.conv3 = nn.Conv2d(128, 256, 3, padding=1)\n",
    "    self.conv4 = nn.Conv2d(256, 512, 3, padding=1)\n",
    "    self.dropout=nn.Dropout(kwargs['dropout_rate'])\n",
    "    self.pool = nn.MaxPool2d(2, 2)\n",
    "    self.fc1 = nn.Linear(512 * 4 * 4, 1024)\n",
    "    self.fc2 = nn.Linear(1024, 512)\n",
    "    self.fc3 = nn.Linear(512, 100)  # Output size should match the number of classes in CIFAR-100\n",
    "\n",
    "  def forward(self, x):\n",
    "      x = self.pool(nn.functional.relu(self.conv1(x)))\n",
    "      x = self.pool(nn.functional.relu(self.conv2(x)))\n",
    "      x = self.pool(nn.functional.relu(self.conv3(x)))\n",
    "      x = (nn.functional.relu(self.conv4(x)))\n",
    "      x = x.view(-1, 512 * 4 * 4)\n",
    "      x = nn.functional.relu(self.fc1(self.dropout(x)))\n",
    "      x = nn.functional.relu(self.fc2(self.dropout(x)))\n",
    "      x = self.fc3(self.dropout(x))\n",
    "      return x"
   ],
   "metadata": {
    "collapsed": false,
    "ExecuteTime": {
     "end_time": "2023-11-18T05:04:00.186821990Z",
     "start_time": "2023-11-18T05:04:00.145028115Z"
    }
   },
   "id": "64f54197fc51240d"
  },
  {
   "cell_type": "code",
   "execution_count": null,
   "outputs": [],
   "source": [
    "#Sector-wise dropout layer\n",
    "class SWDropOut(torch.nn.Module):\n",
    "    def __init__(self,**kwargs):\n",
    "        super().__init__()\n",
    "        self.group_size = int(kwargs['group_size'])\n",
    "        self.drop_per_group = int(kwargs['drop_per_group'])\n",
    "        self.scalar = 1/((self.group_size-self.drop_per_group)/self.group_size)\n",
    "     \n",
    "    def forward(self, x):\n",
    "        if self.training:\n",
    "            scalar_mask = torch.full(x.size(),self.scalar)\n",
    "            batch,feature = x.size()\n",
    "            for item in range(batch):\n",
    "                for i in range(0,feature,self.group_size):\n",
    "                    masked_count=0\n",
    "                    while masked_count < self.drop_per_group:\n",
    "                        index = random.randint(0, self.group_size-1) \n",
    "                        if scalar_mask[item][i+index] !=0:\n",
    "                            scalar_mask[item][i+index]=0\n",
    "                            masked_count+=1\n",
    "            x = torch.multiply(x,scalar_mask)\n",
    "            # print(x)\n",
    "            return x\n",
    "        else:\n",
    "            return x\n"
   ],
   "metadata": {
    "collapsed": false,
    "ExecuteTime": {
     "start_time": "2023-11-18T06:18:24.367452239Z"
    }
   },
   "id": "d43aa8f98979db8a"
  },
  {
   "cell_type": "code",
   "execution_count": 32,
   "outputs": [],
   "source": [
    "#Sector-Wise dropout network\n",
    "class SwNet(nn.Module):\n",
    "  def __init__(self, **kwargs):\n",
    "    super(SwNet, self).__init__()\n",
    "    # self.relu = nn.ReLU(False)\n",
    "    # self.flatten = nn.Flatten()\n",
    "    self.conv1 = nn.Conv2d(3, 64, 3, padding=1)\n",
    "    self.conv2 = nn.Conv2d(64, 128, 3, padding=1)\n",
    "    self.conv3 = nn.Conv2d(128, 256, 3, padding=1)\n",
    "    self.conv4 = nn.Conv2d(256, 512, 3, padding=1)\n",
    "    self.pool = nn.MaxPool2d(2, 2)\n",
    "    self.dropout1=SWDropOut(group_size=kwargs['group_size'], drop_per_group=kwargs['drop_per_group'])\n",
    "    self.fc1 = nn.Linear(512 * 4 * 4, 1024)\n",
    "    self.dropout2=SWDropOut(group_size=kwargs['group_size'], drop_per_group=kwargs['drop_per_group'])\n",
    "    self.fc2 = nn.Linear(1024, 512)\n",
    "    self.dropout3=SWDropOut(group_size=kwargs['group_size'], drop_per_group=kwargs['drop_per_group'])\n",
    "    self.fc3 = nn.Linear(512, 100)  # Output size should match the number of classes in CIFAR-100\n",
    "\n",
    "  def forward(self, x):\n",
    "      x = self.pool(nn.functional.relu(self.conv1(x)))\n",
    "      x = self.pool(nn.functional.relu(self.conv2(x)))\n",
    "      x = self.pool(nn.functional.relu(self.conv3(x)))\n",
    "      x = nn.functional.relu(self.conv4(x))\n",
    "      x = x.view(-1, 512 * 4 * 4)\n",
    "      x = nn.functional.relu(self.fc1(self.dropout1(x)))\n",
    "      x =nn.functional.relu(self.fc2(self.dropout2(x)))\n",
    "      x = self.fc3(self.dropout3(x))\n",
    "      return x"
   ],
   "metadata": {
    "collapsed": false,
    "ExecuteTime": {
     "end_time": "2023-11-18T05:27:38.366149779Z",
     "start_time": "2023-11-18T05:27:38.358683374Z"
    }
   },
   "id": "239f95fa9d8c9045"
  },
  {
   "cell_type": "code",
   "execution_count": 9,
   "outputs": [],
   "source": [
    "def train(model,optim,criterion,train_loader):\n",
    "    train_loss=0\n",
    "    \n",
    "    for data, target in train_loader:\n",
    "        if train_on_gpu:\n",
    "            data,target = data.cuda(), target.cuda()\n",
    "        \n",
    "        optim.zero_grad()\n",
    "        output= model(data)\n",
    "        loss = criterion(output,target)\n",
    "        loss.backward()\n",
    "        optim.step()\n",
    "        \n",
    "        train_loss+=loss.item()\n",
    "    \n",
    "    return train_loss/len(train_loader)\n",
    "\n",
    "def validate(model,criterion,valid_loader):\n",
    "    model.eval()\n",
    "    valid_loss=0\n",
    "    \n",
    "    for data, target in valid_loader:\n",
    "        if train_on_gpu:\n",
    "            data, target = data.cuda(), target.cuda()\n",
    "        output = model(data)\n",
    "        loss = criterion(output, target)\n",
    "        valid_loss += loss.item()\n",
    "        \n",
    "    valid_loss = valid_loss/len(valid_loader)\n",
    "    \n",
    "    return valid_loss\n",
    "\n",
    "def predict(model,criterion,test_loader):\n",
    "    model.eval()\n",
    "    class_correct = list(0. for i in range(100))\n",
    "    class_total = list(0. for i in range(100))\n",
    "    test_loss=0\n",
    "    for data, target in test_loader:\n",
    "        if train_on_gpu:\n",
    "            data,target = data.cuda(), target.cuda()\n",
    "        \n",
    "        prediction = model(data)\n",
    "        test_loss += criterion(prediction, target)\n",
    "    \n",
    "        _, pred = torch.max(prediction, 1)\n",
    "        correct_tensor = pred.eq(target.data.view_as(pred))\n",
    "        \n",
    "        correct = np.squeeze(correct_tensor.numpy()) if not train_on_gpu else np.squeeze(correct_tensor.cpu().numpy())\n",
    "        \n",
    "        for i in range(len(data)):\n",
    "            label = target.data[i]\n",
    "            class_correct[label] += correct[i].item()\n",
    "            class_total[label] += 1\n",
    "    \n",
    "    test_loss = test_loss/len(test_loader.dataset)\n",
    "    print(len(test_loader.dataset),len(test_loader))\n",
    "    print('Test Loss: {:.6f}\\n'.format(test_loss))\n",
    "    \n",
    "    for i in range(100):\n",
    "        if class_total[i] > 0:\n",
    "            print('Test Accuracy of %5s: %2d%% (%2d/%2d)' % (\n",
    "                i, 100 * class_correct[i] / class_total[i],\n",
    "                np.sum(class_correct[i]), np.sum(class_total[i])))\n",
    "        else:\n",
    "            print('Test Accuracy of %5s: N/A (no training examples)' % (i))\n",
    "    \n",
    "    print('\\nTest Accuracy (Overall): %2d%% (%2d/%2d)' % (\n",
    "        100. * np.sum(class_correct) / np.sum(class_total),\n",
    "        np.sum(class_correct), np.sum(class_total)))\n",
    "    \n",
    "    return class_total,test_loss"
   ],
   "metadata": {
    "collapsed": false,
    "ExecuteTime": {
     "end_time": "2023-11-18T04:48:00.475643962Z",
     "start_time": "2023-11-18T04:48:00.467288788Z"
    }
   },
   "id": "656c6ea65c5b867e"
  },
  {
   "cell_type": "code",
   "execution_count": 22,
   "outputs": [],
   "source": [
    "def train_and_test_dropout(model,training,validation,testing,epochs):\n",
    "    optimizer = optim.Adamax(model.parameters(), lr=.001)\n",
    "    loss_fn = nn.CrossEntropyLoss()\n",
    "    train_loss =[]\n",
    "    val_loss=[]\n",
    "    for i in epochs:\n",
    "        loss = train(model,optimizer,loss_fn,training)\n",
    "        valid_loss = validate(model,loss_fn,validation)\n",
    "        train_loss.append(loss)\n",
    "        val_loss.append(valid_loss)\n",
    "\n",
    "    y_pred_totals,test_loss = predict(model,loss_fn,testing)\n",
    "    \n",
    "    return train_loss,val_loss,test_loss,y_pred_totals"
   ],
   "metadata": {
    "collapsed": false,
    "ExecuteTime": {
     "end_time": "2023-11-18T05:23:02.274235734Z",
     "start_time": "2023-11-18T05:23:02.232134791Z"
    }
   },
   "id": "565908cfd286edc8"
  },
  {
   "cell_type": "code",
   "execution_count": 23,
   "outputs": [],
   "source": [
    "def makeGraphs_2(do_loss, do_val_loss,do_y_hat,sw_loss, sw_val_loss,sw_y_hat,epochs):\n",
    "    fig, ((ax11,ax21),(ax12,ax22)) = plt.subplots(2,2)\n",
    "    fig.set_figwidth(12)\n",
    "    fig.set_figheight(12)\n",
    "    \n",
    "    ax11.set_title('Regular DropOut')\n",
    "    ax11.plot(epochs,do_loss,'bo',label='Training Loss')\n",
    "    ax11.plot(epochs,do_val_loss,'r',label='Validation Loss')\n",
    "    ax11.set(xlabel='Epochs',ylabel='Loss')\n",
    "    ax11.set_ylim(0.1,1.5)\n",
    "    ax11.legend()\n",
    "    \n",
    "    x_temp=[-.25,5.5]\n",
    "    y_temp=[-0.25,5.5]\n",
    "    ax12.bar(do_y_hat)\n",
    "    ax12.plot(x_temp, y_temp, 'r')\n",
    "    ax12.set(xlabel='Actual',ylabel='Predicted')\n",
    "    ax12.set_ylim(-.25,5.5)\n",
    "    ax12.set_xlim(-.25,5.5)\n",
    "    \n",
    "    ax21.set_title('Inverse Group Based DropOut')\n",
    "    ax21.plot(epochs,sw_loss,'bo',label='Training Loss')\n",
    "    ax21.plot(epochs,sw_val_loss,'r',label='Validation Loss')\n",
    "    ax21.set(xlabel='Epochs',ylabel='Loss')\n",
    "    ax21.set_ylim(0.1,1.5)\n",
    "    ax21.legend()\n",
    "   \n",
    "    ax22.bar(sw_y_hat)\n",
    "    ax22.plot(x_temp, y_temp, 'r')\n",
    "    ax22.set(xlabel='Actual',ylabel='Predicted')\n",
    "    ax22.set_ylim(-.25,5.5)\n",
    "    ax22.set_xlim(-.25,5.5)\n",
    "    plt.show()"
   ],
   "metadata": {
    "collapsed": false,
    "ExecuteTime": {
     "end_time": "2023-11-18T05:23:04.177002841Z",
     "start_time": "2023-11-18T05:23:04.170114273Z"
    }
   },
   "id": "544e5fb0b89fe71c"
  },
  {
   "cell_type": "code",
   "execution_count": 33,
   "outputs": [
    {
     "name": "stdout",
     "output_type": "stream",
     "text": [
      "2\n",
      "1\n",
      "2\n",
      "1\n",
      "2\n",
      "1\n",
      "10000 313\n",
      "Test Loss: 0.122067\n",
      "\n",
      "Test Accuracy of     0: 48% (48/100)\n",
      "Test Accuracy of     1:  0% ( 0/100)\n",
      "Test Accuracy of     2: 35% (35/100)\n",
      "Test Accuracy of     3:  0% ( 0/100)\n",
      "Test Accuracy of     4:  0% ( 0/100)\n",
      "Test Accuracy of     5:  0% ( 0/100)\n",
      "Test Accuracy of     6:  0% ( 0/100)\n",
      "Test Accuracy of     7:  0% ( 0/100)\n",
      "Test Accuracy of     8:  1% ( 1/100)\n",
      "Test Accuracy of     9:  1% ( 1/100)\n",
      "Test Accuracy of    10:  0% ( 0/100)\n",
      "Test Accuracy of    11:  0% ( 0/100)\n",
      "Test Accuracy of    12:  0% ( 0/100)\n",
      "Test Accuracy of    13:  0% ( 0/100)\n",
      "Test Accuracy of    14:  0% ( 0/100)\n",
      "Test Accuracy of    15:  0% ( 0/100)\n",
      "Test Accuracy of    16:  0% ( 0/100)\n",
      "Test Accuracy of    17: 49% (49/100)\n",
      "Test Accuracy of    18:  0% ( 0/100)\n",
      "Test Accuracy of    19:  0% ( 0/100)\n",
      "Test Accuracy of    20: 71% (71/100)\n",
      "Test Accuracy of    21:  5% ( 5/100)\n",
      "Test Accuracy of    22:  1% ( 1/100)\n",
      "Test Accuracy of    23:  0% ( 0/100)\n",
      "Test Accuracy of    24:  0% ( 0/100)\n",
      "Test Accuracy of    25:  0% ( 0/100)\n",
      "Test Accuracy of    26:  0% ( 0/100)\n",
      "Test Accuracy of    27: 44% (44/100)\n",
      "Test Accuracy of    28:  1% ( 1/100)\n",
      "Test Accuracy of    29:  0% ( 0/100)\n",
      "Test Accuracy of    30: 22% (22/100)\n",
      "Test Accuracy of    31:  2% ( 2/100)\n",
      "Test Accuracy of    32:  0% ( 0/100)\n",
      "Test Accuracy of    33: 10% (10/100)\n",
      "Test Accuracy of    34:  0% ( 0/100)\n",
      "Test Accuracy of    35:  0% ( 0/100)\n",
      "Test Accuracy of    36:  0% ( 0/100)\n",
      "Test Accuracy of    37:  9% ( 9/100)\n",
      "Test Accuracy of    38:  0% ( 0/100)\n",
      "Test Accuracy of    39:  0% ( 0/100)\n",
      "Test Accuracy of    40:  0% ( 0/100)\n",
      "Test Accuracy of    41:  8% ( 8/100)\n",
      "Test Accuracy of    42: 35% (35/100)\n",
      "Test Accuracy of    43:  0% ( 0/100)\n",
      "Test Accuracy of    44:  0% ( 0/100)\n",
      "Test Accuracy of    45:  0% ( 0/100)\n",
      "Test Accuracy of    46:  0% ( 0/100)\n",
      "Test Accuracy of    47: 21% (21/100)\n",
      "Test Accuracy of    48:  0% ( 0/100)\n",
      "Test Accuracy of    49: 45% (45/100)\n",
      "Test Accuracy of    50:  0% ( 0/100)\n",
      "Test Accuracy of    51: 28% (28/100)\n",
      "Test Accuracy of    52: 75% (75/100)\n",
      "Test Accuracy of    53: 11% (11/100)\n",
      "Test Accuracy of    54:  2% ( 2/100)\n",
      "Test Accuracy of    55:  0% ( 0/100)\n",
      "Test Accuracy of    56:  0% ( 0/100)\n",
      "Test Accuracy of    57:  0% ( 0/100)\n",
      "Test Accuracy of    58:  0% ( 0/100)\n",
      "Test Accuracy of    59:  2% ( 2/100)\n",
      "Test Accuracy of    60:  2% ( 2/100)\n",
      "Test Accuracy of    61: 15% (15/100)\n",
      "Test Accuracy of    62:  0% ( 0/100)\n",
      "Test Accuracy of    63: 13% (13/100)\n",
      "Test Accuracy of    64:  2% ( 2/100)\n",
      "Test Accuracy of    65:  1% ( 1/100)\n",
      "Test Accuracy of    66:  2% ( 2/100)\n",
      "Test Accuracy of    67:  0% ( 0/100)\n",
      "Test Accuracy of    68:  9% ( 9/100)\n",
      "Test Accuracy of    69:  5% ( 5/100)\n",
      "Test Accuracy of    70: 32% (32/100)\n",
      "Test Accuracy of    71:  4% ( 4/100)\n",
      "Test Accuracy of    72:  9% ( 9/100)\n",
      "Test Accuracy of    73:  8% ( 8/100)\n",
      "Test Accuracy of    74:  0% ( 0/100)\n",
      "Test Accuracy of    75:  0% ( 0/100)\n",
      "Test Accuracy of    76:  0% ( 0/100)\n",
      "Test Accuracy of    77:  0% ( 0/100)\n",
      "Test Accuracy of    78:  0% ( 0/100)\n",
      "Test Accuracy of    79:  0% ( 0/100)\n",
      "Test Accuracy of    80:  0% ( 0/100)\n",
      "Test Accuracy of    81:  0% ( 0/100)\n",
      "Test Accuracy of    82: 64% (64/100)\n",
      "Test Accuracy of    83:  0% ( 0/100)\n",
      "Test Accuracy of    84:  0% ( 0/100)\n",
      "Test Accuracy of    85:  1% ( 1/100)\n",
      "Test Accuracy of    86:  0% ( 0/100)\n",
      "Test Accuracy of    87:  0% ( 0/100)\n",
      "Test Accuracy of    88:  5% ( 5/100)\n",
      "Test Accuracy of    89: 12% (12/100)\n",
      "Test Accuracy of    90:  0% ( 0/100)\n",
      "Test Accuracy of    91:  0% ( 0/100)\n",
      "Test Accuracy of    92: 22% (22/100)\n",
      "Test Accuracy of    93:  0% ( 0/100)\n",
      "Test Accuracy of    94:  0% ( 0/100)\n",
      "Test Accuracy of    95: 56% (56/100)\n",
      "Test Accuracy of    96:  0% ( 0/100)\n",
      "Test Accuracy of    97: 12% (12/100)\n",
      "Test Accuracy of    98:  0% ( 0/100)\n",
      "Test Accuracy of    99:  0% ( 0/100)\n",
      "\n",
      "Test Accuracy (Overall):  8% (800/10000)\n"
     ]
    },
    {
     "ename": "TypeError",
     "evalue": "cannot unpack non-iterable NoneType object",
     "output_type": "error",
     "traceback": [
      "\u001B[0;31m---------------------------------------------------------------------------\u001B[0m",
      "\u001B[0;31mTypeError\u001B[0m                                 Traceback (most recent call last)",
      "Cell \u001B[0;32mIn[33], line 10\u001B[0m\n\u001B[1;32m      7\u001B[0m SW_model \u001B[38;5;241m=\u001B[39m SwNet(group_size\u001B[38;5;241m=\u001B[39mgroup_size,drop_per_group\u001B[38;5;241m=\u001B[39mdrop_per_group)\n\u001B[1;32m      8\u001B[0m do_model \u001B[38;5;241m=\u001B[39m Net(dropout_rate\u001B[38;5;241m=\u001B[39mdropout_rate)\n\u001B[0;32m---> 10\u001B[0m sw_t_loss,sw_v_loss,sw_tst_loss,sw_correct_class_totals \u001B[38;5;241m=\u001B[39m train_and_test_dropout(SW_model,train_loader,valid_loader,test_loader,epochs)\n\u001B[1;32m     11\u001B[0m do_t_loss,do_v_loss,do_tst_loss,do_correct_class_totals \u001B[38;5;241m=\u001B[39m train_and_test_dropout(SW_model,train_loader,valid_loader,test_loader,epochs)\n\u001B[1;32m     13\u001B[0m \u001B[38;5;28mprint\u001B[39m(\u001B[38;5;124m\"\u001B[39m\u001B[38;5;124mDropout Loss: \u001B[39m\u001B[38;5;124m\"\u001B[39m,do_tst_loss)\n",
      "Cell \u001B[0;32mIn[22], line 12\u001B[0m, in \u001B[0;36mtrain_and_test_dropout\u001B[0;34m(model, training, validation, testing, epochs)\u001B[0m\n\u001B[1;32m      9\u001B[0m     train_loss\u001B[38;5;241m.\u001B[39mappend(loss)\n\u001B[1;32m     10\u001B[0m     val_loss\u001B[38;5;241m.\u001B[39mappend(valid_loss)\n\u001B[0;32m---> 12\u001B[0m y_pred_totals,test_loss \u001B[38;5;241m=\u001B[39m predict(model,loss_fn,testing)\n\u001B[1;32m     14\u001B[0m \u001B[38;5;28;01mreturn\u001B[39;00m train_loss,val_loss,test_loss,y_pred_totals\n",
      "\u001B[0;31mTypeError\u001B[0m: cannot unpack non-iterable NoneType object"
     ]
    }
   ],
   "source": [
    "epochs=range(1)\n",
    "\n",
    "dropout_rate=0.5\n",
    "group_size=2\n",
    "drop_per_group=1\n",
    "\n",
    "SW_model = SwNet(group_size=group_size,drop_per_group=drop_per_group)\n",
    "do_model = Net(dropout_rate=dropout_rate)\n",
    "\n",
    "sw_t_loss,sw_v_loss,sw_tst_loss,sw_correct_class_totals = train_and_test_dropout(SW_model,train_loader,valid_loader,test_loader,epochs)\n",
    "do_t_loss,do_v_loss,do_tst_loss,do_correct_class_totals = train_and_test_dropout(SW_model,train_loader,valid_loader,test_loader,epochs)\n",
    "\n",
    "print(\"Dropout Loss: \",do_tst_loss)\n",
    "print(\"Sector-Wise Loss: \",sw_tst_loss)\n",
    "makeGraphs_2(do_t_loss,do_v_loss,do_correct_class_totals,sw_t_loss,sw_v_loss,sw_correct_class_totals, epochs)"
   ],
   "metadata": {
    "collapsed": false,
    "ExecuteTime": {
     "end_time": "2023-11-18T06:18:24.374733923Z",
     "start_time": "2023-11-18T05:27:41.473333830Z"
    }
   },
   "id": "6f186e3928f781b0"
  },
  {
   "cell_type": "code",
   "execution_count": null,
   "outputs": [],
   "source": [],
   "metadata": {
    "collapsed": false
   },
   "id": "1bde5f7a3aa2f68c"
  }
 ],
 "metadata": {
  "kernelspec": {
   "display_name": "Python 3",
   "language": "python",
   "name": "python3"
  },
  "language_info": {
   "codemirror_mode": {
    "name": "ipython",
    "version": 2
   },
   "file_extension": ".py",
   "mimetype": "text/x-python",
   "name": "python",
   "nbconvert_exporter": "python",
   "pygments_lexer": "ipython2",
   "version": "2.7.6"
  }
 },
 "nbformat": 4,
 "nbformat_minor": 5
}
